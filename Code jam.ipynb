{
 "cells": [
  {
   "cell_type": "code",
   "execution_count": 22,
   "metadata": {},
   "outputs": [
    {
     "name": "stdout",
     "output_type": "stream",
     "text": [
      "1\n",
      "3\n",
      "1 2 3\n",
      "2 2 2\n",
      "1 3 4\n",
      "Case #1: 7 1 2\n"
     ]
    }
   ],
   "source": [
    "#problem 1\n",
    "#by Vishwa Gandhi\n",
    "import numpy as np\n",
    "t = int(input())\n",
    "br = False\n",
    "cntr=0\n",
    "cntc=0\n",
    "for x in range(1,t+1):\n",
    "    matrix=[]\n",
    "    n = int(input())\n",
    "    for i in range(n):\n",
    "        en = list(map(int, input().split())) \n",
    "        #u,indices = np.unique(xx,return_counts = True) \n",
    "        #if not all(i == 1 for i in indices):\n",
    "#  print('hey')  \n",
    "        matrix.append(en)\n",
    "    mat2=np.transpose(matrix)\n",
    "    d1=sum(matrix[i][i] for i in range(n))\n",
    "    for i,i2 in zip(matrix,mat2):\n",
    "        st=set()\n",
    "        st2=set()\n",
    "        for j,j2 in zip(i,i2):\n",
    "            st.add(j)\n",
    "            st2.add(j2)\n",
    "        #print(st,st2)\n",
    "        if len(st) != n:\n",
    "            cntr += 1\n",
    "        if len(st2) != n:\n",
    "            cntc += 1\n",
    "    \n",
    "    print('Case #{}: {} {} {}'.format(x,d1,cntr,cntc))\n",
    "#by Vishwa Gandhi  "
   ]
  },
  {
   "cell_type": "markdown",
   "metadata": {},
   "source": [
    "xx=[1,2,3,4]\n",
    "for cc in range(4):\n",
    "    if count(xx[cc]) >1:\n",
    "        print('hii')"
   ]
  },
  {
   "cell_type": "code",
   "execution_count": 10,
   "metadata": {},
   "outputs": [
    {
     "name": "stdout",
     "output_type": "stream",
     "text": [
      "4 1\n"
     ]
    }
   ],
   "source": [
    "xx=[[1,2,3,4]]\n",
    "st = set()\n",
    "n=4\n",
    "#u,indices = np.unique(xx,return_counts = True) \n",
    "#print(u,indices)\n",
    "#if all(i == 1 for i in indices):\n",
    "#    print('hey')\n",
    "for i in xx:\n",
    "    for j in i:\n",
    "        st.add(j)\n",
    "    print(len(st),len(xx))\n",
    "    if len(st) != n:\n",
    "        print('hii')\n"
   ]
  },
  {
   "cell_type": "code",
   "execution_count": 34,
   "metadata": {},
   "outputs": [
    {
     "name": "stdout",
     "output_type": "stream",
     "text": [
      "1\n",
      "101\n",
      "Case #1: (1)0(1)\n"
     ]
    }
   ],
   "source": [
    "#problem2\n",
    "t = int(input())\n",
    "\n",
    "for x in range(1,t+1):\n",
    "    stack = []\n",
    "    op = ''\n",
    "    ip = list(map(int, input()))\n",
    "   # print(ip)\n",
    "    for i in range(len(ip)):\n",
    "        while ip[i] > len(stack):\n",
    "            stack.append('(')\n",
    "            op += '('\n",
    "        while ip[i] < len(stack):\n",
    "            stack.pop()\n",
    "            op+=')'\n",
    "        op += str(ip[i])\n",
    "    while len(stack) != 0:\n",
    "        op+=')'\n",
    "        stack.pop()\n",
    "    print('Case #{}: {}'.format(x,op))"
   ]
  },
  {
   "cell_type": "code",
   "execution_count": 31,
   "metadata": {},
   "outputs": [
    {
     "name": "stdout",
     "output_type": "stream",
     "text": [
      "5\n",
      "4\n",
      "pq\n"
     ]
    }
   ],
   "source": [
    "l = [1,2,3,4,5]\n",
    "print(l.pop())\n",
    "print(l.pop())\n",
    "s=''\n",
    "s += 'p'\n",
    "s += 'q'\n",
    "print(s)"
   ]
  },
  {
   "cell_type": "code",
   "execution_count": 63,
   "metadata": {},
   "outputs": [
    {
     "name": "stdout",
     "output_type": "stream",
     "text": [
      "1\n",
      "2\n",
      "33 44\n",
      "33 44\n",
      "{33: [[1, 1]], 44: [[0, 1]]}\n",
      "44 55\n",
      "44 55\n",
      "{33: [[1, 1]], 44: [[0, 1], [1, 2]], 55: [[0, 2]]}\n"
     ]
    }
   ],
   "source": [
    "'''t = int(input())\n",
    "for x in range(1,t+1):\n",
    "    tasks = int(input())\n",
    "    time = {}\n",
    "    for n in range(1,tasks+1):\n",
    "        start,end = map(int, input().split())\n",
    "        print(start,end)\n",
    "        if start in time:\n",
    "            time[start].append(list([1,n])) #1 -> start n->task\n",
    "        else:\n",
    "            time[start]=[]\n",
    "            time[start].append(list([1,n]))\n",
    "        if end in time:\n",
    "            time[end].append(list([-1,n]))#0 -> start n->task\n",
    "        else:\n",
    "            time[end]=[]\n",
    "            time[end].append(list([-1,n]))\n",
    "        \n",
    "        time = dict(sorted(time.items()))\n",
    "        time[start].sort(key = lambda x1: x1[1])\n",
    "        time[end].sort(key = lambda x1: x1[1])\n",
    "        print(time)\n",
    "        s=''\n",
    "        j,c=0,0\n",
    "        for k in time.values():\n",
    "            for l in k:\n",
    "                if l[0] == 1:\n",
    "                    if(c!=0 and j!=0):\n",
    "                        print('Case #{}: IMPOSSIBLE'.format(x))\n",
    "                        break\n",
    "                    if(c == 0):\n",
    "                        '''"
   ]
  },
  {
   "cell_type": "code",
   "execution_count": 64,
   "metadata": {},
   "outputs": [
    {
     "name": "stdout",
     "output_type": "stream",
     "text": [
      "1\n",
      "3\n",
      "360 480\n",
      "360 480\n",
      "420 540\n",
      "420 540\n",
      "600 660\n",
      "600 660\n",
      "Case #1: CJC\n"
     ]
    }
   ],
   "source": [
    "#problem 3\n",
    "t = int(input())\n",
    "for x in range(1,t+1):\n",
    "    tasks = int(input())\n",
    "    time = {}\n",
    "    for n in range(1,tasks+1):\n",
    "        start,end = map(int, input().split())\n",
    "        # print(start,end)\n",
    "        if start in time:\n",
    "            time[start].append(list([1,n])) #1 -> start n->task\n",
    "        else:\n",
    "            time[start]=[]\n",
    "            time[start].append(list([1,n]))\n",
    "        if end in time:\n",
    "            time[end].append(list([-1,n])) #0 -> start n->task\n",
    "        else:\n",
    "            time[end]=[]\n",
    "            time[end].append(list([-1,n]))\n",
    "        \n",
    "    # time = dict(sorted(time.items()))\n",
    "    # time[start].sort(key = lambda x1: x1[1])\n",
    "    for point in sorted(time.keys()):\n",
    "        time[point].sort(key = lambda x1: x1[0])\n",
    "    # print(time)\n",
    "    s=''\n",
    "    j,c=0,0\n",
    "    flag = False;\n",
    "    answer = ['0' for i in range(tasks)]\n",
    "    for point in sorted(time.keys()):\n",
    "        for lst in time[point]:\n",
    "            # print(\"Testing For Point : {}\".format(lst))\n",
    "            if lst[0] == 1:\n",
    "                if(c!=0 and j!=0):\n",
    "                    print('Case #{}: IMPOSSIBLE'.format(x))\n",
    "                    flag = True\n",
    "                    break\n",
    "                if(c == 0):\n",
    "                    c = lst[1]\n",
    "                else:\n",
    "                    j = lst[1]\n",
    "            else:\n",
    "                if c == 0 and j == 0:\n",
    "                    exit(0)\n",
    "                if j == lst[1]:\n",
    "                    answer[j - 1] = 'J'\n",
    "                    j = 0\n",
    "                else:\n",
    "                    answer[c - 1] = 'C'\n",
    "                    c = 0\n",
    "        if flag == True:\n",
    "            break\n",
    "    if flag == False:\n",
    "        print('Case #{}: '.format(x), end = '')\n",
    "        print(\"\".join(answer))\n",
    "        "
   ]
  },
  {
   "cell_type": "code",
   "execution_count": 66,
   "metadata": {},
   "outputs": [
    {
     "name": "stdout",
     "output_type": "stream",
     "text": [
      "1\n",
      "3 6\n",
      "1 2 3\n",
      "4 5 6\n",
      "3 2 1\n",
      "7\n"
     ]
    }
   ],
   "source": [
    "#problem4"
   ]
  },
  {
   "cell_type": "code",
   "execution_count": null,
   "metadata": {},
   "outputs": [],
   "source": []
  }
 ],
 "metadata": {
  "kernelspec": {
   "display_name": "Python 3",
   "language": "python",
   "name": "python3"
  },
  "language_info": {
   "codemirror_mode": {
    "name": "ipython",
    "version": 3
   },
   "file_extension": ".py",
   "mimetype": "text/x-python",
   "name": "python",
   "nbconvert_exporter": "python",
   "pygments_lexer": "ipython3",
   "version": "3.7.3"
  }
 },
 "nbformat": 4,
 "nbformat_minor": 4
}
